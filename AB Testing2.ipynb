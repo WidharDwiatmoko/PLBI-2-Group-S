{
 "cells": [
  {
   "cell_type": "markdown",
   "metadata": {
    "pycharm": {
     "name": "#%% md\n"
    }
   },
   "source": [
    "# Import Libraries"
   ]
  },
  {
   "cell_type": "code",
   "execution_count": 1,
   "metadata": {
    "ExecuteTime": {
     "end_time": "2022-06-30T13:44:45.413129Z",
     "start_time": "2022-06-30T13:44:45.401127Z"
    },
    "pycharm": {
     "name": "#%%\n"
    }
   },
   "outputs": [],
   "source": [
    "import pandas as pd\n",
    "import numpy as np\n",
    "\n",
    "import scipy.stats as scs\n",
    "import statsmodels.stats.api as sms\n",
    "from math import ceil\n",
    "\n",
    "import warnings \n",
    "warnings.filterwarnings('ignore')"
   ]
  },
  {
   "cell_type": "markdown",
   "metadata": {
    "pycharm": {
     "name": "#%% md\n"
    }
   },
   "source": [
    "## Read Dataset"
   ]
  },
  {
   "cell_type": "code",
   "execution_count": 2,
   "metadata": {
    "ExecuteTime": {
     "end_time": "2022-06-30T13:44:46.988083Z",
     "start_time": "2022-06-30T13:44:46.980582Z"
    },
    "pycharm": {
     "name": "#%%\n"
    }
   },
   "outputs": [],
   "source": [
    "dataset_info = {\"filename\" : \"data/ab.csv\",\n",
    "                \"separator\" : \",\"}"
   ]
  },
  {
   "cell_type": "code",
   "execution_count": 3,
   "metadata": {
    "ExecuteTime": {
     "end_time": "2022-06-30T13:44:47.608117Z",
     "start_time": "2022-06-30T13:44:47.417582Z"
    },
    "pycharm": {
     "name": "#%%\n"
    }
   },
   "outputs": [],
   "source": [
    "df = pd.read_csv(dataset_info['filename'], dataset_info['separator'])"
   ]
  },
  {
   "cell_type": "code",
   "execution_count": 4,
   "metadata": {
    "ExecuteTime": {
     "end_time": "2022-06-30T13:44:47.948687Z",
     "start_time": "2022-06-30T13:44:47.930684Z"
    },
    "pycharm": {
     "name": "#%%\n"
    }
   },
   "outputs": [
    {
     "data": {
      "text/plain": "   user_id                   timestamp      group landing_page  converted\n0   851104  2017-01-21 22:11:48.556739    control     old_page          0\n1   804228  2017-01-12 08:01:45.159739    control     old_page          0\n2   661590  2017-01-11 16:55:06.154213  treatment     new_page          0\n3   853541  2017-01-08 18:28:03.143765  treatment     new_page          0\n4   864975  2017-01-21 01:52:26.210827    control     old_page          1",
      "text/html": "<div>\n<style scoped>\n    .dataframe tbody tr th:only-of-type {\n        vertical-align: middle;\n    }\n\n    .dataframe tbody tr th {\n        vertical-align: top;\n    }\n\n    .dataframe thead th {\n        text-align: right;\n    }\n</style>\n<table border=\"1\" class=\"dataframe\">\n  <thead>\n    <tr style=\"text-align: right;\">\n      <th></th>\n      <th>user_id</th>\n      <th>timestamp</th>\n      <th>group</th>\n      <th>landing_page</th>\n      <th>converted</th>\n    </tr>\n  </thead>\n  <tbody>\n    <tr>\n      <th>0</th>\n      <td>851104</td>\n      <td>2017-01-21 22:11:48.556739</td>\n      <td>control</td>\n      <td>old_page</td>\n      <td>0</td>\n    </tr>\n    <tr>\n      <th>1</th>\n      <td>804228</td>\n      <td>2017-01-12 08:01:45.159739</td>\n      <td>control</td>\n      <td>old_page</td>\n      <td>0</td>\n    </tr>\n    <tr>\n      <th>2</th>\n      <td>661590</td>\n      <td>2017-01-11 16:55:06.154213</td>\n      <td>treatment</td>\n      <td>new_page</td>\n      <td>0</td>\n    </tr>\n    <tr>\n      <th>3</th>\n      <td>853541</td>\n      <td>2017-01-08 18:28:03.143765</td>\n      <td>treatment</td>\n      <td>new_page</td>\n      <td>0</td>\n    </tr>\n    <tr>\n      <th>4</th>\n      <td>864975</td>\n      <td>2017-01-21 01:52:26.210827</td>\n      <td>control</td>\n      <td>old_page</td>\n      <td>1</td>\n    </tr>\n  </tbody>\n</table>\n</div>"
     },
     "execution_count": 4,
     "metadata": {},
     "output_type": "execute_result"
    }
   ],
   "source": [
    "df.head()"
   ]
  },
  {
   "cell_type": "code",
   "execution_count": 5,
   "metadata": {
    "ExecuteTime": {
     "end_time": "2022-06-30T13:44:48.442590Z",
     "start_time": "2022-06-30T13:44:48.404084Z"
    },
    "pycharm": {
     "name": "#%%\n"
    }
   },
   "outputs": [
    {
     "name": "stdout",
     "output_type": "stream",
     "text": [
      "<class 'pandas.core.frame.DataFrame'>\n",
      "RangeIndex: 294478 entries, 0 to 294477\n",
      "Data columns (total 5 columns):\n",
      " #   Column        Non-Null Count   Dtype \n",
      "---  ------        --------------   ----- \n",
      " 0   user_id       294478 non-null  int64 \n",
      " 1   timestamp     294478 non-null  object\n",
      " 2   group         294478 non-null  object\n",
      " 3   landing_page  294478 non-null  object\n",
      " 4   converted     294478 non-null  int64 \n",
      "dtypes: int64(2), object(3)\n",
      "memory usage: 11.2+ MB\n"
     ]
    }
   ],
   "source": [
    "df.info()"
   ]
  },
  {
   "cell_type": "code",
   "execution_count": 6,
   "metadata": {
    "ExecuteTime": {
     "end_time": "2022-06-30T13:44:48.953989Z",
     "start_time": "2022-06-30T13:44:48.900979Z"
    },
    "pycharm": {
     "name": "#%%\n"
    }
   },
   "outputs": [
    {
     "data": {
      "text/plain": "landing_page  new_page  old_page\ngroup                           \ncontrol           1928    145274\ntreatment       145311      1965",
      "text/html": "<div>\n<style scoped>\n    .dataframe tbody tr th:only-of-type {\n        vertical-align: middle;\n    }\n\n    .dataframe tbody tr th {\n        vertical-align: top;\n    }\n\n    .dataframe thead th {\n        text-align: right;\n    }\n</style>\n<table border=\"1\" class=\"dataframe\">\n  <thead>\n    <tr style=\"text-align: right;\">\n      <th>landing_page</th>\n      <th>new_page</th>\n      <th>old_page</th>\n    </tr>\n    <tr>\n      <th>group</th>\n      <th></th>\n      <th></th>\n    </tr>\n  </thead>\n  <tbody>\n    <tr>\n      <th>control</th>\n      <td>1928</td>\n      <td>145274</td>\n    </tr>\n    <tr>\n      <th>treatment</th>\n      <td>145311</td>\n      <td>1965</td>\n    </tr>\n  </tbody>\n</table>\n</div>"
     },
     "execution_count": 6,
     "metadata": {},
     "output_type": "execute_result"
    }
   ],
   "source": [
    "pd.crosstab(df['group'], df['landing_page'])"
   ]
  },
  {
   "cell_type": "markdown",
   "metadata": {
    "pycharm": {
     "name": "#%% md\n"
    }
   },
   "source": [
    "# Data Preparation"
   ]
  },
  {
   "cell_type": "markdown",
   "metadata": {
    "pycharm": {
     "name": "#%% md\n"
    }
   },
   "source": [
    "## Handling Data Duplication"
   ]
  },
  {
   "cell_type": "code",
   "execution_count": 7,
   "metadata": {
    "ExecuteTime": {
     "end_time": "2022-06-30T13:44:50.374796Z",
     "start_time": "2022-06-30T13:44:50.343790Z"
    },
    "pycharm": {
     "name": "#%%\n"
    }
   },
   "outputs": [
    {
     "name": "stdout",
     "output_type": "stream",
     "text": [
      "There are 3894 observations of user that appear multiple time in the dataset.\n"
     ]
    }
   ],
   "source": [
    "count_of_sessions = df['user_id'].value_counts(ascending=False)\n",
    "users_duplicated = count_of_sessions[count_of_sessions > 1].count()\n",
    "\n",
    "print(f'There are {users_duplicated} observations of user that appear multiple time in the dataset.')"
   ]
  },
  {
   "cell_type": "code",
   "execution_count": 8,
   "metadata": {
    "ExecuteTime": {
     "end_time": "2022-06-30T13:44:51.363931Z",
     "start_time": "2022-06-30T13:44:51.341927Z"
    },
    "pycharm": {
     "name": "#%%\n"
    }
   },
   "outputs": [
    {
     "name": "stdout",
     "output_type": "stream",
     "text": [
      "After dropping the duplicated data, now weare left with 286690 observations.\n"
     ]
    }
   ],
   "source": [
    "duplicates_to_drop = count_of_sessions[count_of_sessions > 1].index\n",
    "\n",
    "df = df[~df['user_id'].isin(duplicates_to_drop)]\n",
    "print(f'After dropping the duplicated data, now weare left with {df.shape[0]} observations.')"
   ]
  },
  {
   "cell_type": "markdown",
   "metadata": {
    "pycharm": {
     "name": "#%% md\n"
    }
   },
   "source": [
    "## Calculating Conversion Rate by Group"
   ]
  },
  {
   "cell_type": "code",
   "execution_count": 9,
   "metadata": {
    "ExecuteTime": {
     "end_time": "2022-06-30T13:44:55.175777Z",
     "start_time": "2022-06-30T13:44:55.124767Z"
    },
    "pycharm": {
     "name": "#%%\n"
    }
   },
   "outputs": [
    {
     "data": {
      "text/plain": "       group  total_users  conversions  total_users_pct  conversion_pct  \\\n0    control       143293        17220        49.981862       50.284713   \n1  treatment       143397        17025        50.018138       49.715287   \n\n   conversion_rate  \n0        12.017335  \n1        11.872633  ",
      "text/html": "<div>\n<style scoped>\n    .dataframe tbody tr th:only-of-type {\n        vertical-align: middle;\n    }\n\n    .dataframe tbody tr th {\n        vertical-align: top;\n    }\n\n    .dataframe thead th {\n        text-align: right;\n    }\n</style>\n<table border=\"1\" class=\"dataframe\">\n  <thead>\n    <tr style=\"text-align: right;\">\n      <th></th>\n      <th>group</th>\n      <th>total_users</th>\n      <th>conversions</th>\n      <th>total_users_pct</th>\n      <th>conversion_pct</th>\n      <th>conversion_rate</th>\n    </tr>\n  </thead>\n  <tbody>\n    <tr>\n      <th>0</th>\n      <td>control</td>\n      <td>143293</td>\n      <td>17220</td>\n      <td>49.981862</td>\n      <td>50.284713</td>\n      <td>12.017335</td>\n    </tr>\n    <tr>\n      <th>1</th>\n      <td>treatment</td>\n      <td>143397</td>\n      <td>17025</td>\n      <td>50.018138</td>\n      <td>49.715287</td>\n      <td>11.872633</td>\n    </tr>\n  </tbody>\n</table>\n</div>"
     },
     "execution_count": 9,
     "metadata": {},
     "output_type": "execute_result"
    }
   ],
   "source": [
    "df_group = df.groupby('group').agg({'user_id':'nunique',\n",
    "                                    'converted':'sum'}).reset_index()\n",
    "df_group = df_group.rename(columns={'user_id': 'total_users', 'converted': 'conversions'})\n",
    "df_group['total_users_pct']=(df_group['total_users']/len(df.index))*100\n",
    "df_group['conversion_pct']=(df_group['conversions']/df['converted'].sum())*100\n",
    "df_group['conversion_rate']=(df_group['conversions']/df_group['total_users'])*100\n",
    "df_group"
   ]
  },
  {
   "cell_type": "code",
   "execution_count": 10,
   "metadata": {
    "ExecuteTime": {
     "end_time": "2022-06-30T13:44:56.984694Z",
     "start_time": "2022-06-30T13:44:56.968192Z"
    },
    "pycharm": {
     "name": "#%%\n"
    }
   },
   "outputs": [],
   "source": [
    "cvr_control = df_group['conversion_rate'][0]\n",
    "cvr_treatement = df_group['conversion_rate'][1]\n",
    "cvr_diff = cvr_control-cvr_treatement"
   ]
  },
  {
   "cell_type": "code",
   "execution_count": 11,
   "metadata": {
    "ExecuteTime": {
     "end_time": "2022-06-30T13:44:57.864083Z",
     "start_time": "2022-06-30T13:44:57.859082Z"
    },
    "pycharm": {
     "name": "#%%\n"
    }
   },
   "outputs": [
    {
     "name": "stdout",
     "output_type": "stream",
     "text": [
      "The conversion rate for Control group is 12.02%, while the treatment is 11.87% with a difference of 0.14%.\n"
     ]
    }
   ],
   "source": [
    "print(f'The conversion rate for Control group is {cvr_control:.2f}%, while the treatment is {cvr_treatement:.2f}% with a difference of {cvr_diff:.2f}%.')"
   ]
  },
  {
   "cell_type": "markdown",
   "metadata": {
    "pycharm": {
     "name": "#%% md\n"
    }
   },
   "source": [
    "## Calculating Sample"
   ]
  },
  {
   "cell_type": "code",
   "execution_count": 12,
   "metadata": {
    "ExecuteTime": {
     "end_time": "2022-06-30T13:44:59.255601Z",
     "start_time": "2022-06-30T13:44:59.240599Z"
    },
    "pycharm": {
     "name": "#%%\n"
    }
   },
   "outputs": [
    {
     "name": "stdout",
     "output_type": "stream",
     "text": [
      "The required sample size for the statistical testing is 4720.\n"
     ]
    }
   ],
   "source": [
    "# Calculating effect size based on our expected rates\n",
    "effect_size = sms.proportion_effectsize(0.13, 0.15)    \n",
    "\n",
    "# Calculating sample size required based on alpha=0.05 and power=0.8\n",
    "required_n = sms.NormalIndPower().solve_power(effect_size, \n",
    "                                              power=0.8, \n",
    "                                              alpha=0.05, \n",
    "                                              ratio=1)\n",
    "# Rounding up to next whole number\n",
    "required_n = ceil(required_n)                                                 \n",
    "\n",
    "print(f'The required sample size for the statistical testing is {required_n}.')"
   ]
  },
  {
   "cell_type": "markdown",
   "metadata": {
    "pycharm": {
     "name": "#%% md\n"
    }
   },
   "source": [
    "## Sampling the Dataset"
   ]
  },
  {
   "cell_type": "code",
   "execution_count": 13,
   "metadata": {
    "ExecuteTime": {
     "end_time": "2022-06-30T13:45:33.528772Z",
     "start_time": "2022-06-30T13:45:33.481605Z"
    },
    "pycharm": {
     "name": "#%%\n"
    }
   },
   "outputs": [],
   "source": [
    "control_sample = df[df['group'] == 'control'].sample(n=required_n, random_state=22)\n",
    "treatment_sample = df[df['group'] == 'treatment'].sample(n=required_n, random_state=22)\n",
    "\n",
    "ab_test_df = pd.concat([control_sample, treatment_sample], axis=0)\n",
    "ab_test_df.reset_index(drop=True, inplace=True)"
   ]
  },
  {
   "cell_type": "code",
   "execution_count": 14,
   "metadata": {
    "ExecuteTime": {
     "end_time": "2022-06-30T13:45:34.008520Z",
     "start_time": "2022-06-30T13:45:33.996018Z"
    },
    "pycharm": {
     "name": "#%%\n"
    }
   },
   "outputs": [
    {
     "data": {
      "text/plain": "      user_id                   timestamp      group landing_page  converted\n0      763854  2017-01-21 03:43:17.188315    control     old_page          0\n1      690555  2017-01-18 06:38:13.079449    control     old_page          0\n2      861520  2017-01-06 21:13:40.044766    control     old_page          0\n3      630778  2017-01-05 16:42:36.995204    control     old_page          0\n4      656634  2017-01-04 15:31:21.676130    control     old_page          0\n...       ...                         ...        ...          ...        ...\n9435   908512  2017-01-14 22:02:29.922674  treatment     new_page          0\n9436   873211  2017-01-05 00:57:16.167151  treatment     new_page          0\n9437   631276  2017-01-20 18:56:58.167809  treatment     new_page          0\n9438   662301  2017-01-03 08:10:57.768806  treatment     new_page          0\n9439   944623  2017-01-19 10:56:01.648653  treatment     new_page          1\n\n[9440 rows x 5 columns]",
      "text/html": "<div>\n<style scoped>\n    .dataframe tbody tr th:only-of-type {\n        vertical-align: middle;\n    }\n\n    .dataframe tbody tr th {\n        vertical-align: top;\n    }\n\n    .dataframe thead th {\n        text-align: right;\n    }\n</style>\n<table border=\"1\" class=\"dataframe\">\n  <thead>\n    <tr style=\"text-align: right;\">\n      <th></th>\n      <th>user_id</th>\n      <th>timestamp</th>\n      <th>group</th>\n      <th>landing_page</th>\n      <th>converted</th>\n    </tr>\n  </thead>\n  <tbody>\n    <tr>\n      <th>0</th>\n      <td>763854</td>\n      <td>2017-01-21 03:43:17.188315</td>\n      <td>control</td>\n      <td>old_page</td>\n      <td>0</td>\n    </tr>\n    <tr>\n      <th>1</th>\n      <td>690555</td>\n      <td>2017-01-18 06:38:13.079449</td>\n      <td>control</td>\n      <td>old_page</td>\n      <td>0</td>\n    </tr>\n    <tr>\n      <th>2</th>\n      <td>861520</td>\n      <td>2017-01-06 21:13:40.044766</td>\n      <td>control</td>\n      <td>old_page</td>\n      <td>0</td>\n    </tr>\n    <tr>\n      <th>3</th>\n      <td>630778</td>\n      <td>2017-01-05 16:42:36.995204</td>\n      <td>control</td>\n      <td>old_page</td>\n      <td>0</td>\n    </tr>\n    <tr>\n      <th>4</th>\n      <td>656634</td>\n      <td>2017-01-04 15:31:21.676130</td>\n      <td>control</td>\n      <td>old_page</td>\n      <td>0</td>\n    </tr>\n    <tr>\n      <th>...</th>\n      <td>...</td>\n      <td>...</td>\n      <td>...</td>\n      <td>...</td>\n      <td>...</td>\n    </tr>\n    <tr>\n      <th>9435</th>\n      <td>908512</td>\n      <td>2017-01-14 22:02:29.922674</td>\n      <td>treatment</td>\n      <td>new_page</td>\n      <td>0</td>\n    </tr>\n    <tr>\n      <th>9436</th>\n      <td>873211</td>\n      <td>2017-01-05 00:57:16.167151</td>\n      <td>treatment</td>\n      <td>new_page</td>\n      <td>0</td>\n    </tr>\n    <tr>\n      <th>9437</th>\n      <td>631276</td>\n      <td>2017-01-20 18:56:58.167809</td>\n      <td>treatment</td>\n      <td>new_page</td>\n      <td>0</td>\n    </tr>\n    <tr>\n      <th>9438</th>\n      <td>662301</td>\n      <td>2017-01-03 08:10:57.768806</td>\n      <td>treatment</td>\n      <td>new_page</td>\n      <td>0</td>\n    </tr>\n    <tr>\n      <th>9439</th>\n      <td>944623</td>\n      <td>2017-01-19 10:56:01.648653</td>\n      <td>treatment</td>\n      <td>new_page</td>\n      <td>1</td>\n    </tr>\n  </tbody>\n</table>\n<p>9440 rows × 5 columns</p>\n</div>"
     },
     "execution_count": 14,
     "metadata": {},
     "output_type": "execute_result"
    }
   ],
   "source": [
    "ab_test_df"
   ]
  },
  {
   "cell_type": "code",
   "execution_count": 15,
   "metadata": {
    "ExecuteTime": {
     "end_time": "2022-06-30T13:45:34.473022Z",
     "start_time": "2022-06-30T13:45:34.454519Z"
    },
    "pycharm": {
     "name": "#%%\n"
    }
   },
   "outputs": [
    {
     "name": "stdout",
     "output_type": "stream",
     "text": [
      "<class 'pandas.core.frame.DataFrame'>\n",
      "RangeIndex: 9440 entries, 0 to 9439\n",
      "Data columns (total 5 columns):\n",
      " #   Column        Non-Null Count  Dtype \n",
      "---  ------        --------------  ----- \n",
      " 0   user_id       9440 non-null   int64 \n",
      " 1   timestamp     9440 non-null   object\n",
      " 2   group         9440 non-null   object\n",
      " 3   landing_page  9440 non-null   object\n",
      " 4   converted     9440 non-null   int64 \n",
      "dtypes: int64(2), object(3)\n",
      "memory usage: 368.9+ KB\n"
     ]
    }
   ],
   "source": [
    "ab_test_df.info()"
   ]
  },
  {
   "cell_type": "code",
   "execution_count": 16,
   "metadata": {
    "ExecuteTime": {
     "end_time": "2022-06-30T13:45:34.937534Z",
     "start_time": "2022-06-30T13:45:34.922032Z"
    },
    "pycharm": {
     "name": "#%%\n"
    }
   },
   "outputs": [
    {
     "data": {
      "text/plain": "control      4720\ntreatment    4720\nName: group, dtype: int64"
     },
     "execution_count": 16,
     "metadata": {},
     "output_type": "execute_result"
    }
   ],
   "source": [
    "ab_test_df['group'].value_counts()"
   ]
  },
  {
   "cell_type": "code",
   "execution_count": 17,
   "metadata": {
    "ExecuteTime": {
     "end_time": "2022-06-30T13:45:35.617997Z",
     "start_time": "2022-06-30T13:45:35.605995Z"
    },
    "pycharm": {
     "name": "#%%\n"
    }
   },
   "outputs": [
    {
     "data": {
      "text/plain": "       group  total_users  conversions  total_users_pct  conversion_pct  \\\n0    control         4720          582             50.0       49.531915   \n1  treatment         4720          593             50.0       50.468085   \n\n   conversion_rate  \n0         0.406161  \n1         0.413537  ",
      "text/html": "<div>\n<style scoped>\n    .dataframe tbody tr th:only-of-type {\n        vertical-align: middle;\n    }\n\n    .dataframe tbody tr th {\n        vertical-align: top;\n    }\n\n    .dataframe thead th {\n        text-align: right;\n    }\n</style>\n<table border=\"1\" class=\"dataframe\">\n  <thead>\n    <tr style=\"text-align: right;\">\n      <th></th>\n      <th>group</th>\n      <th>total_users</th>\n      <th>conversions</th>\n      <th>total_users_pct</th>\n      <th>conversion_pct</th>\n      <th>conversion_rate</th>\n    </tr>\n  </thead>\n  <tbody>\n    <tr>\n      <th>0</th>\n      <td>control</td>\n      <td>4720</td>\n      <td>582</td>\n      <td>50.0</td>\n      <td>49.531915</td>\n      <td>0.406161</td>\n    </tr>\n    <tr>\n      <th>1</th>\n      <td>treatment</td>\n      <td>4720</td>\n      <td>593</td>\n      <td>50.0</td>\n      <td>50.468085</td>\n      <td>0.413537</td>\n    </tr>\n  </tbody>\n</table>\n</div>"
     },
     "execution_count": 17,
     "metadata": {},
     "output_type": "execute_result"
    }
   ],
   "source": [
    "df_group_sample = ab_test_df.groupby('group').agg({'user_id':'nunique',\n",
    "                                                   'converted':'sum'}).reset_index()\n",
    "df_group_sample = df_group_sample.rename(columns={'user_id': 'total_users', 'converted': 'conversions'})\n",
    "df_group_sample['total_users_pct']=(df_group_sample['total_users']/len(ab_test_df.index))*100\n",
    "df_group_sample['conversion_pct']=(df_group_sample['conversions']/ab_test_df['converted'].sum())*100\n",
    "df_group_sample['conversion_rate']=(df_group_sample['conversions']/df_group['total_users'])*100\n",
    "df_group_sample"
   ]
  },
  {
   "cell_type": "markdown",
   "metadata": {
    "pycharm": {
     "name": "#%% md\n"
    }
   },
   "source": [
    "## Basic Statistical Check"
   ]
  },
  {
   "cell_type": "code",
   "execution_count": 18,
   "metadata": {
    "ExecuteTime": {
     "end_time": "2022-06-30T13:45:37.824933Z",
     "start_time": "2022-06-30T13:45:37.812431Z"
    },
    "pycharm": {
     "name": "#%%\n"
    }
   },
   "outputs": [
    {
     "data": {
      "text/plain": "           conversion_rate  std_deviation  std_error\ngroup                                               \ncontrol           0.123305       0.328787   0.004786\ntreatment         0.125636       0.331438   0.004824",
      "text/html": "<div>\n<style scoped>\n    .dataframe tbody tr th:only-of-type {\n        vertical-align: middle;\n    }\n\n    .dataframe tbody tr th {\n        vertical-align: top;\n    }\n\n    .dataframe thead th {\n        text-align: right;\n    }\n</style>\n<table border=\"1\" class=\"dataframe\">\n  <thead>\n    <tr style=\"text-align: right;\">\n      <th></th>\n      <th>conversion_rate</th>\n      <th>std_deviation</th>\n      <th>std_error</th>\n    </tr>\n    <tr>\n      <th>group</th>\n      <th></th>\n      <th></th>\n      <th></th>\n    </tr>\n  </thead>\n  <tbody>\n    <tr>\n      <th>control</th>\n      <td>0.123305</td>\n      <td>0.328787</td>\n      <td>0.004786</td>\n    </tr>\n    <tr>\n      <th>treatment</th>\n      <td>0.125636</td>\n      <td>0.331438</td>\n      <td>0.004824</td>\n    </tr>\n  </tbody>\n</table>\n</div>"
     },
     "execution_count": 18,
     "metadata": {},
     "output_type": "execute_result"
    }
   ],
   "source": [
    "df_stats = ab_test_df.groupby('group')['converted']\n",
    "\n",
    "# Std. deviation of the sample\n",
    "std_p = lambda x: np.std(x, ddof=0)  \n",
    "# Std. error of the proportion (std / sqrt(n))\n",
    "se_p = lambda x: scs.sem(x, ddof=0)\n",
    "\n",
    "df_stats = df_stats.agg([np.mean, std_p, se_p])\n",
    "df_stats.columns = ['conversion_rate', 'std_deviation', 'std_error']\n",
    "\n",
    "df_stats"
   ]
  },
  {
   "cell_type": "code",
   "execution_count": 19,
   "metadata": {
    "ExecuteTime": {
     "end_time": "2022-06-30T13:45:38.442985Z",
     "start_time": "2022-06-30T13:45:38.433483Z"
    },
    "pycharm": {
     "name": "#%%\n"
    }
   },
   "outputs": [],
   "source": [
    "cvr_control = (df_stats['conversion_rate'][0])*100\n",
    "cvr_treatement = (df_stats['conversion_rate'][1])*100\n",
    "cvr_diff = cvr_control-cvr_treatement"
   ]
  },
  {
   "cell_type": "code",
   "execution_count": 20,
   "metadata": {
    "ExecuteTime": {
     "end_time": "2022-06-30T13:45:38.877024Z",
     "start_time": "2022-06-30T13:45:38.864522Z"
    },
    "pycharm": {
     "name": "#%%\n"
    }
   },
   "outputs": [
    {
     "name": "stdout",
     "output_type": "stream",
     "text": [
      "The conversion rate for Control group is 12.33%, while the treatment is 12.56% with a difference of -0.23%.\n"
     ]
    }
   ],
   "source": [
    "print(f'The conversion rate for Control group is {cvr_control:.2f}%, while the treatment is {cvr_treatement:.2f}% with a difference of {cvr_diff:.2f}%.')"
   ]
  },
  {
   "cell_type": "markdown",
   "metadata": {
    "pycharm": {
     "name": "#%% md\n"
    }
   },
   "source": [
    "## Hypothesis Testing"
   ]
  },
  {
   "cell_type": "markdown",
   "metadata": {
    "pycharm": {
     "name": "#%% md\n"
    }
   },
   "source": [
    "Now, we move on to see if the difference in conversion rate is statsitically significant by performing hypothesis testing."
   ]
  },
  {
   "cell_type": "code",
   "execution_count": 21,
   "metadata": {
    "ExecuteTime": {
     "end_time": "2022-06-30T13:45:40.543766Z",
     "start_time": "2022-06-30T13:45:40.529764Z"
    },
    "pycharm": {
     "name": "#%%\n"
    }
   },
   "outputs": [
    {
     "name": "stdout",
     "output_type": "stream",
     "text": [
      "z statistic: -0.34\n",
      "p-value: 0.732\n",
      "confidence interval 95% for control group: [11.39%, 13.27%]\n",
      "confidence interval 95% for treatment group: [11.62%, 13.51%]\n"
     ]
    }
   ],
   "source": [
    "from statsmodels.stats.proportion import proportions_ztest, proportion_confint\n",
    "\n",
    "control_results = ab_test_df[ab_test_df['group'] == 'control']['converted']\n",
    "treatment_results = ab_test_df[ab_test_df['group'] == 'treatment']['converted']\n",
    "n_con = control_results.count()\n",
    "n_treat = treatment_results.count()\n",
    "successes = [control_results.sum(), treatment_results.sum()]\n",
    "nobs = [n_con, n_treat]\n",
    "\n",
    "z_stat, pval = proportions_ztest(successes, nobs=nobs)\n",
    "(lower_con, lower_treat), (upper_con, upper_treat) = proportion_confint(successes, nobs=nobs, alpha=0.05)\n",
    "\n",
    "print(f'z statistic: {z_stat:.2f}')\n",
    "print(f'p-value: {pval:.3f}')\n",
    "print(f'confidence interval 95% for control group: [{lower_con*100:.2f}%, {upper_con*100:.2f}%]')\n",
    "print(f'confidence interval 95% for treatment group: [{lower_treat*100:.2f}%, {upper_treat*100:.2f}%]')"
   ]
  },
  {
   "cell_type": "markdown",
   "metadata": {
    "pycharm": {
     "name": "#%% md\n"
    }
   },
   "source": [
    "## Conclusion"
   ]
  },
  {
   "cell_type": "code",
   "execution_count": 22,
   "metadata": {
    "ExecuteTime": {
     "end_time": "2022-06-30T13:45:43.521185Z",
     "start_time": "2022-06-30T13:45:43.512183Z"
    },
    "pycharm": {
     "name": "#%%\n"
    }
   },
   "outputs": [],
   "source": [
    "def print_conclusion(pval, alpha=0.05):\n",
    "    if pval>alpha:\n",
    "        print(f'Since our p-value={pval:.3f} is bigger than alpha={alpha:.3f}, then we must accept the null hypothesis.')\n",
    "    else:\n",
    "        print(f'Since our p-value={pval:.3f} is smaller than alpha={alpha:.3f}, then we can reject the null hypothesis.')"
   ]
  },
  {
   "cell_type": "code",
   "execution_count": 23,
   "metadata": {
    "ExecuteTime": {
     "end_time": "2022-06-30T13:45:43.984959Z",
     "start_time": "2022-06-30T13:45:43.972957Z"
    },
    "pycharm": {
     "name": "#%%\n"
    }
   },
   "outputs": [
    {
     "name": "stdout",
     "output_type": "stream",
     "text": [
      "Since our p-value=0.732 is bigger than alpha=0.050, then we must accept the null hypothesis.\n"
     ]
    }
   ],
   "source": [
    "print_conclusion(pval, alpha=0.05)"
   ]
  },
  {
   "cell_type": "code",
   "execution_count": 24,
   "metadata": {
    "ExecuteTime": {
     "end_time": "2022-06-30T13:45:46.113917Z",
     "start_time": "2022-06-30T13:45:46.102915Z"
    },
    "pycharm": {
     "name": "#%%\n"
    }
   },
   "outputs": [],
   "source": [
    "pct_diff = ((cvr_treatement-cvr_control)/cvr_control)*100"
   ]
  },
  {
   "cell_type": "code",
   "execution_count": 25,
   "metadata": {
    "ExecuteTime": {
     "end_time": "2022-06-30T13:45:46.993361Z",
     "start_time": "2022-06-30T13:45:46.980858Z"
    },
    "pycharm": {
     "name": "#%%\n"
    }
   },
   "outputs": [
    {
     "name": "stdout",
     "output_type": "stream",
     "text": [
      "The Treatment group has conversion rate of 1.89% higher than the Control group.\n"
     ]
    }
   ],
   "source": [
    "print(f'The Treatment group has conversion rate of {pct_diff:.2f}% higher than the Control group.')"
   ]
  },
  {
   "cell_type": "markdown",
   "metadata": {
    "pycharm": {
     "name": "#%% md\n"
    }
   },
   "source": [
    "#### Get Statistics"
   ]
  },
  {
   "cell_type": "code",
   "execution_count": 26,
   "metadata": {
    "ExecuteTime": {
     "end_time": "2022-06-30T13:45:50.359235Z",
     "start_time": "2022-06-30T13:45:50.341232Z"
    },
    "pycharm": {
     "name": "#%%\n"
    }
   },
   "outputs": [],
   "source": [
    "def get_stats(visitors_A, visitors_B, conversions_A, conversions_B):\n",
    "    control_cr = conversions_A / visitors_A\n",
    "    variant_cr = conversions_B / visitors_B\n",
    "    relative_difference = variant_cr / control_cr - 1\n",
    "    control_se = (control_cr * (1 - control_cr) / visitors_A) ** 0.5\n",
    "    variant_se = (variant_cr * (1 - variant_cr) / visitors_B) ** 0.5\n",
    "    se_difference = (control_se ** 2 + variant_se ** 2) ** 0.5\n",
    "    return control_cr, variant_cr, relative_difference, control_se, variant_se, se_difference\n",
    "    "
   ]
  },
  {
   "cell_type": "markdown",
   "metadata": {
    "pycharm": {
     "name": "#%% md\n"
    }
   },
   "source": [
    "#### Get Power"
   ]
  },
  {
   "cell_type": "code",
   "execution_count": 27,
   "metadata": {
    "ExecuteTime": {
     "end_time": "2022-06-30T13:45:50.993303Z",
     "start_time": "2022-06-30T13:45:50.984301Z"
    },
    "pycharm": {
     "name": "#%%\n"
    }
   },
   "outputs": [],
   "source": [
    "def get_power(visitors_A, visitors_B, conversions_A, conversions_B, alpha=0.05, two_tails=True):\n",
    "    control_cr, variant_cr, relative_difference, control_se, variant_se, se_difference = get_stats(visitors_A, visitors_B, conversions_A, conversions_B)\n",
    "    \n",
    "    n = visitors_A + visitors_B\n",
    "    \n",
    "    if two_tails:\n",
    "        qu = scs.norm.ppf(1 - alpha / 2)\n",
    "    else:\n",
    "        qu = scs.norm.ppf(1 - alpha)\n",
    "\n",
    "    diff = abs(variant_cr - control_cr)\n",
    "    avg_cr = (control_cr + variant_cr) / 2\n",
    "\n",
    "    control_var = control_cr * (1 - control_cr)\n",
    "    variant_var = variant_cr * (1 - variant_cr)\n",
    "    avg_var = avg_cr * (1 - avg_cr)\n",
    "\n",
    "    power_lower = scs.norm.cdf(\n",
    "        (n ** 0.5 * diff - qu * (2 * avg_var) ** 0.5)\n",
    "        / (control_var + variant_var) ** 0.5\n",
    "        )\n",
    "    power_upper = 1 - scs.norm.cdf(\n",
    "        (n ** 0.5 * diff + qu * (2 * avg_var) ** 0.5)\n",
    "        / (control_var + variant_var) ** 0.5\n",
    "        )\n",
    "\n",
    "    power = power_lower + power_upper\n",
    "\n",
    "    return power"
   ]
  },
  {
   "cell_type": "markdown",
   "metadata": {
    "pycharm": {
     "name": "#%% md\n"
    }
   },
   "source": [
    "#### Get Z Value"
   ]
  },
  {
   "cell_type": "code",
   "execution_count": 28,
   "metadata": {
    "ExecuteTime": {
     "end_time": "2022-06-30T13:45:51.626859Z",
     "start_time": "2022-06-30T13:45:51.619358Z"
    },
    "pycharm": {
     "name": "#%%\n"
    }
   },
   "outputs": [],
   "source": [
    "def get_z_value(alpha=0.05, two_tails=True):\n",
    "    z_dist = scs.norm()\n",
    "    if two_tails:\n",
    "        alpha = alpha / 2\n",
    "        area = 1 - alpha\n",
    "    else:\n",
    "        area = 1 - alpha\n",
    "\n",
    "    z = z_dist.ppf(area)\n",
    "    return z"
   ]
  },
  {
   "cell_type": "markdown",
   "metadata": {
    "pycharm": {
     "name": "#%% md\n"
    }
   },
   "source": [
    "#### Get Tail Direction"
   ]
  },
  {
   "cell_type": "code",
   "execution_count": 29,
   "metadata": {
    "ExecuteTime": {
     "end_time": "2022-06-30T13:45:52.245980Z",
     "start_time": "2022-06-30T13:45:52.228477Z"
    },
    "pycharm": {
     "name": "#%%\n"
    }
   },
   "outputs": [],
   "source": [
    "def get_tail_directions(relative_difference, two_tails=True):\n",
    "    if two_tails is False:\n",
    "            if relative_difference < 0:\n",
    "                tail_direction = \"right\"\n",
    "            else:\n",
    "                tail_direction = \"left\"\n",
    "    else:\n",
    "        tail_direction = \"two\"\n",
    "    return tail_direction"
   ]
  },
  {
   "cell_type": "markdown",
   "metadata": {
    "pycharm": {
     "name": "#%% md\n"
    }
   },
   "source": [
    "#### Z_Test"
   ]
  },
  {
   "cell_type": "code",
   "execution_count": 30,
   "metadata": {
    "ExecuteTime": {
     "end_time": "2022-06-30T13:45:52.926885Z",
     "start_time": "2022-06-30T13:45:52.918384Z"
    },
    "pycharm": {
     "name": "#%%\n"
    }
   },
   "outputs": [],
   "source": [
    "def z_test(visitors_A,visitors_B,conversions_A,conversions_B,alpha,two_tails=True):\n",
    "        control_cr, variant_cr, relative_difference, control_se, variant_se, se_difference = get_stats(visitors_A, visitors_B, conversions_A, conversions_B)\n",
    "        tail_direction = get_tail_directions(relative_difference, two_tails)\n",
    "        \n",
    "        combined_cr = (conversions_A + conversions_B) / (\n",
    "            visitors_A + visitors_B\n",
    "        )\n",
    "        combined_se = (\n",
    "            combined_cr\n",
    "            * (1 - combined_cr)\n",
    "            * (1 / visitors_A + 1 / visitors_B)\n",
    "        ) ** 0.5\n",
    "\n",
    "        # z-score\n",
    "        z_score = (variant_cr - control_cr) / combined_se\n",
    "\n",
    "        # Calculate the p-value dependent on one or two tails\n",
    "        if tail_direction == \"left\":\n",
    "            p_value = scs.norm.cdf(-z_score)\n",
    "        elif tail_direction == \"right\":\n",
    "            p_value = scs.norm.cdf(z_score)\n",
    "        else:\n",
    "            p_value = 2 * scs.norm.cdf(-abs(z_score))\n",
    "\n",
    "        return z_score, p_value"
   ]
  },
  {
   "cell_type": "markdown",
   "metadata": {
    "pycharm": {
     "name": "#%% md\n"
    }
   },
   "source": [
    "#### Get Table Data"
   ]
  },
  {
   "cell_type": "code",
   "execution_count": 31,
   "metadata": {
    "ExecuteTime": {
     "end_time": "2022-06-30T13:46:15.253492Z",
     "start_time": "2022-06-30T13:46:15.239990Z"
    },
    "pycharm": {
     "name": "#%%\n"
    }
   },
   "outputs": [],
   "source": [
    "def get_table_data(visitors_A,visitors_B,conversions_A,conversions_B,alpha,two_tails=True):\n",
    "\n",
    "    control_cr, variant_cr, relative_difference, control_se, variant_se, se_difference = get_stats(visitors_A, visitors_B, conversions_A, conversions_B)\n",
    "    power = get_power(visitors_A, visitors_B, conversions_A, conversions_B)\n",
    "    z_score, p_value = z_test(visitors_A,visitors_B,conversions_A,conversions_B,alpha,two_tails)\n",
    "    \n",
    "    data = {\"<b>Variant</b>\": [\"A\", \"B\"],\n",
    "            \"<b>Visitors</b>\": [f\"{visitors_A:,}\", f\"{visitors_B:,}\"],\n",
    "            \"<b>Conversions</b>\": [conversions_A, conversions_B],\n",
    "            \"<b>Conversion rate</b>\": [f\"{control_cr:.2%}\", f\"{variant_cr:.2%}\"],\n",
    "            \"<b>Uplift</b>\": [\"\", f\"{relative_difference:.2%}\"],\n",
    "            \"<b>Power</b>\": [\"\", f\"{power:.4f}\"],\n",
    "            \"<b>Z-score</b>\": [\"\", f\"{z_score:.4f}\"],\n",
    "            \"<b>P-value</b>\": [\"\", f\"{p_value:.4f}\"],\n",
    "           }\n",
    "    return data"
   ]
  },
  {
   "cell_type": "markdown",
   "metadata": {
    "pycharm": {
     "name": "#%% md\n"
    }
   },
   "source": [
    "#### Get Table for Dashboard"
   ]
  },
  {
   "cell_type": "code",
   "execution_count": 32,
   "metadata": {
    "ExecuteTime": {
     "end_time": "2022-06-30T13:46:16.024370Z",
     "start_time": "2022-06-30T13:46:16.014369Z"
    },
    "pycharm": {
     "name": "#%%\n"
    }
   },
   "outputs": [],
   "source": [
    "def get_table_dash(visitors_A,visitors_B,conversions_A,conversions_B,alpha,two_tails=True):\n",
    "        \n",
    "    # get stats, z, power, tail direction\n",
    "    control_cr, variant_cr, relative_difference, control_se, variant_se, se_difference = get_stats(visitors_A, visitors_B, conversions_A, conversions_B)\n",
    "    power = get_power(visitors_A, visitors_B, conversions_A, conversions_B)\n",
    "    z_score, p_value = z_test(visitors_A,visitors_B,conversions_A,conversions_B,alpha,two_tails)\n",
    "    \n",
    "    result_dict = {'Control':{'Visitors':visitors_A,\n",
    "                          'Conversions':conversions_A,\n",
    "                          'Conversion Rate':control_cr,\n",
    "                          'Uplift':'',\n",
    "                          'Power':'',\n",
    "                          'Z-score':'',\n",
    "                          'P-value':''},\n",
    "                   'Treatment':{'Visitors':visitors_B,\n",
    "                                'Conversions':conversions_B,\n",
    "                                'Conversion Rate':variant_cr,\n",
    "                                'Uplift':relative_difference,\n",
    "                                'Power':power,\n",
    "                                'Z-score':z_score,\n",
    "                                'P-value':p_value}}\n",
    "    return result_dict"
   ]
  },
  {
   "cell_type": "markdown",
   "metadata": {
    "pycharm": {
     "name": "#%% md\n"
    }
   },
   "source": [
    "## Visualizations within the Notebook"
   ]
  },
  {
   "cell_type": "code",
   "execution_count": 33,
   "metadata": {
    "ExecuteTime": {
     "end_time": "2022-06-30T13:46:17.105700Z",
     "start_time": "2022-06-30T13:46:17.100200Z"
    },
    "pycharm": {
     "name": "#%%\n"
    }
   },
   "outputs": [],
   "source": [
    "visitors_A = control_sample['user_id'].nunique()\n",
    "visitors_B = treatment_sample['user_id'].nunique()\n",
    "conversions_A = control_sample['converted'].sum()\n",
    "conversions_B = treatment_sample['converted'].sum()"
   ]
  },
  {
   "cell_type": "code",
   "execution_count": 34,
   "metadata": {
    "ExecuteTime": {
     "end_time": "2022-06-30T13:46:18.387987Z",
     "start_time": "2022-06-30T13:46:18.384987Z"
    },
    "pycharm": {
     "name": "#%%\n"
    }
   },
   "outputs": [],
   "source": [
    "alpha = 0.05\n",
    "two_tails = True"
   ]
  },
  {
   "cell_type": "markdown",
   "metadata": {
    "pycharm": {
     "name": "#%% md\n"
    }
   },
   "source": [
    "## Data for Dashboard"
   ]
  },
  {
   "cell_type": "markdown",
   "metadata": {
    "pycharm": {
     "name": "#%% md\n"
    }
   },
   "source": [
    "## Result Table"
   ]
  },
  {
   "cell_type": "code",
   "execution_count": 35,
   "metadata": {
    "ExecuteTime": {
     "end_time": "2022-06-30T13:46:27.514980Z",
     "start_time": "2022-06-30T13:46:27.496477Z"
    },
    "pycharm": {
     "name": "#%%\n"
    }
   },
   "outputs": [],
   "source": [
    "result_dict = get_table_dash(visitors_A,visitors_B,conversions_A,conversions_B,alpha,two_tails)\n",
    "result_df = pd.DataFrame.from_dict(result_dict, orient='index')"
   ]
  },
  {
   "cell_type": "code",
   "execution_count": 36,
   "metadata": {
    "ExecuteTime": {
     "end_time": "2022-06-30T13:46:28.041478Z",
     "start_time": "2022-06-30T13:46:28.031977Z"
    },
    "pycharm": {
     "name": "#%%\n"
    }
   },
   "outputs": [
    {
     "data": {
      "text/plain": "           Visitors  Conversions  Conversion Rate  Uplift     Power   Z-score  \\\nControl        4720          582         0.123305                               \nTreatment      4720          593         0.125636  0.0189  0.077354  0.342956   \n\n            P-value  \nControl              \nTreatment  0.731632  ",
      "text/html": "<div>\n<style scoped>\n    .dataframe tbody tr th:only-of-type {\n        vertical-align: middle;\n    }\n\n    .dataframe tbody tr th {\n        vertical-align: top;\n    }\n\n    .dataframe thead th {\n        text-align: right;\n    }\n</style>\n<table border=\"1\" class=\"dataframe\">\n  <thead>\n    <tr style=\"text-align: right;\">\n      <th></th>\n      <th>Visitors</th>\n      <th>Conversions</th>\n      <th>Conversion Rate</th>\n      <th>Uplift</th>\n      <th>Power</th>\n      <th>Z-score</th>\n      <th>P-value</th>\n    </tr>\n  </thead>\n  <tbody>\n    <tr>\n      <th>Control</th>\n      <td>4720</td>\n      <td>582</td>\n      <td>0.123305</td>\n      <td></td>\n      <td></td>\n      <td></td>\n      <td></td>\n    </tr>\n    <tr>\n      <th>Treatment</th>\n      <td>4720</td>\n      <td>593</td>\n      <td>0.125636</td>\n      <td>0.0189</td>\n      <td>0.077354</td>\n      <td>0.342956</td>\n      <td>0.731632</td>\n    </tr>\n  </tbody>\n</table>\n</div>"
     },
     "execution_count": 36,
     "metadata": {},
     "output_type": "execute_result"
    }
   ],
   "source": [
    "result_df"
   ]
  },
  {
   "cell_type": "markdown",
   "metadata": {
    "pycharm": {
     "name": "#%% md\n"
    }
   },
   "source": [
    "### Download Results"
   ]
  },
  {
   "cell_type": "code",
   "execution_count": 37,
   "outputs": [],
   "source": [
    "result_df.to_csv('data/result/ab_result_table.csv')"
   ],
   "metadata": {
    "collapsed": false,
    "pycharm": {
     "name": "#%%\n"
    }
   }
  }
 ],
 "metadata": {
  "kernelspec": {
   "display_name": "Python 3",
   "language": "python",
   "name": "python3"
  },
  "language_info": {
   "codemirror_mode": {
    "name": "ipython",
    "version": 3
   },
   "file_extension": ".py",
   "mimetype": "text/x-python",
   "name": "python",
   "nbconvert_exporter": "python",
   "pygments_lexer": "ipython3",
   "version": "3.8.5"
  },
  "toc": {
   "base_numbering": 1,
   "nav_menu": {},
   "number_sections": true,
   "sideBar": true,
   "skip_h1_title": false,
   "title_cell": "Table of Contents",
   "title_sidebar": "Contents",
   "toc_cell": false,
   "toc_position": {},
   "toc_section_display": true,
   "toc_window_display": false
  },
  "varInspector": {
   "cols": {
    "lenName": 16,
    "lenType": 16,
    "lenVar": 40
   },
   "kernels_config": {
    "python": {
     "delete_cmd_postfix": "",
     "delete_cmd_prefix": "del ",
     "library": "var_list.py",
     "varRefreshCmd": "print(var_dic_list())"
    },
    "r": {
     "delete_cmd_postfix": ") ",
     "delete_cmd_prefix": "rm(",
     "library": "var_list.r",
     "varRefreshCmd": "cat(var_dic_list()) "
    }
   },
   "types_to_exclude": [
    "module",
    "function",
    "builtin_function_or_method",
    "instance",
    "_Feature"
   ],
   "window_display": false
  }
 },
 "nbformat": 4,
 "nbformat_minor": 4
}